{
  "nbformat": 4,
  "nbformat_minor": 0,
  "metadata": {
    "colab": {
      "name": "decisiontree.ipynb",
      "provenance": [],
      "authorship_tag": "ABX9TyNTSVlBNAA19cryFRpeopX9",
      "include_colab_link": true
    },
    "kernelspec": {
      "name": "python3",
      "display_name": "Python 3"
    },
    "language_info": {
      "name": "python"
    }
  },
  "cells": [
    {
      "cell_type": "markdown",
      "metadata": {
        "id": "view-in-github",
        "colab_type": "text"
      },
      "source": [
        "<a href=\"https://colab.research.google.com/github/AkhMutholib/DataMining/blob/main/decisiontree.ipynb\" target=\"_parent\"><img src=\"https://colab.research.google.com/assets/colab-badge.svg\" alt=\"Open In Colab\"/></a>"
      ]
    },
    {
      "cell_type": "code",
      "metadata": {
        "id": "gIR6MAH_RJPQ"
      },
      "source": [
        "import numpy as np\n",
        "import pandas as pd\n",
        "from sklearn import tree"
      ],
      "execution_count": 1,
      "outputs": []
    },
    {
      "cell_type": "code",
      "metadata": {
        "id": "PtjEPKUAROdk"
      },
      "source": [
        "Dataset = pd.read_csv('Dataset.csv',delimiter=';',header=0)"
      ],
      "execution_count": 2,
      "outputs": []
    },
    {
      "cell_type": "code",
      "metadata": {
        "colab": {
          "base_uri": "https://localhost:8080/",
          "height": 206
        },
        "id": "guV_9rfcRdlF",
        "outputId": "2c8e02e1-fd66-45bf-990e-74a4b83bd79a"
      },
      "source": [
        "Dataset.head()"
      ],
      "execution_count": 3,
      "outputs": [
        {
          "output_type": "execute_result",
          "data": {
            "text/html": [
              "<div>\n",
              "<style scoped>\n",
              "    .dataframe tbody tr th:only-of-type {\n",
              "        vertical-align: middle;\n",
              "    }\n",
              "\n",
              "    .dataframe tbody tr th {\n",
              "        vertical-align: top;\n",
              "    }\n",
              "\n",
              "    .dataframe thead th {\n",
              "        text-align: right;\n",
              "    }\n",
              "</style>\n",
              "<table border=\"1\" class=\"dataframe\">\n",
              "  <thead>\n",
              "    <tr style=\"text-align: right;\">\n",
              "      <th></th>\n",
              "      <th>Id</th>\n",
              "      <th>Age</th>\n",
              "      <th>Height</th>\n",
              "      <th>Weight</th>\n",
              "      <th>Riches</th>\n",
              "      <th>Gender</th>\n",
              "    </tr>\n",
              "  </thead>\n",
              "  <tbody>\n",
              "    <tr>\n",
              "      <th>0</th>\n",
              "      <td>1</td>\n",
              "      <td>7.0</td>\n",
              "      <td>1.00</td>\n",
              "      <td>30.8</td>\n",
              "      <td>0.4</td>\n",
              "      <td>Man</td>\n",
              "    </tr>\n",
              "    <tr>\n",
              "      <th>1</th>\n",
              "      <td>2</td>\n",
              "      <td>17.2</td>\n",
              "      <td>1.60</td>\n",
              "      <td>50.5</td>\n",
              "      <td>1.5</td>\n",
              "      <td>Man</td>\n",
              "    </tr>\n",
              "    <tr>\n",
              "      <th>2</th>\n",
              "      <td>3</td>\n",
              "      <td>25.0</td>\n",
              "      <td>1.70</td>\n",
              "      <td>60.7</td>\n",
              "      <td>18.5</td>\n",
              "      <td>Man</td>\n",
              "    </tr>\n",
              "    <tr>\n",
              "      <th>3</th>\n",
              "      <td>4</td>\n",
              "      <td>32.5</td>\n",
              "      <td>1.45</td>\n",
              "      <td>4.0</td>\n",
              "      <td>100.3</td>\n",
              "      <td>Man</td>\n",
              "    </tr>\n",
              "    <tr>\n",
              "      <th>4</th>\n",
              "      <td>5</td>\n",
              "      <td>45.8</td>\n",
              "      <td>2.00</td>\n",
              "      <td>42.5</td>\n",
              "      <td>30.5</td>\n",
              "      <td>Man</td>\n",
              "    </tr>\n",
              "  </tbody>\n",
              "</table>\n",
              "</div>"
            ],
            "text/plain": [
              "   Id   Age  Height  Weight  Riches Gender\n",
              "0   1   7.0    1.00    30.8     0.4    Man\n",
              "1   2  17.2    1.60    50.5     1.5    Man\n",
              "2   3  25.0    1.70    60.7    18.5    Man\n",
              "3   4  32.5    1.45     4.0   100.3    Man\n",
              "4   5  45.8    2.00    42.5    30.5    Man"
            ]
          },
          "metadata": {
            "tags": []
          },
          "execution_count": 3
        }
      ]
    },
    {
      "cell_type": "code",
      "metadata": {
        "id": "iCbhbdWaRmf1"
      },
      "source": [
        "Dataset[\"Gender\"]=pd.factorize(Dataset.Gender)[0]"
      ],
      "execution_count": 4,
      "outputs": []
    },
    {
      "cell_type": "code",
      "metadata": {
        "colab": {
          "base_uri": "https://localhost:8080/",
          "height": 206
        },
        "id": "qMqZ32wYRvkz",
        "outputId": "b037bc68-ab6e-427e-c0c9-c0be7ae6428d"
      },
      "source": [
        "Dataset.head()"
      ],
      "execution_count": 5,
      "outputs": [
        {
          "output_type": "execute_result",
          "data": {
            "text/html": [
              "<div>\n",
              "<style scoped>\n",
              "    .dataframe tbody tr th:only-of-type {\n",
              "        vertical-align: middle;\n",
              "    }\n",
              "\n",
              "    .dataframe tbody tr th {\n",
              "        vertical-align: top;\n",
              "    }\n",
              "\n",
              "    .dataframe thead th {\n",
              "        text-align: right;\n",
              "    }\n",
              "</style>\n",
              "<table border=\"1\" class=\"dataframe\">\n",
              "  <thead>\n",
              "    <tr style=\"text-align: right;\">\n",
              "      <th></th>\n",
              "      <th>Id</th>\n",
              "      <th>Age</th>\n",
              "      <th>Height</th>\n",
              "      <th>Weight</th>\n",
              "      <th>Riches</th>\n",
              "      <th>Gender</th>\n",
              "    </tr>\n",
              "  </thead>\n",
              "  <tbody>\n",
              "    <tr>\n",
              "      <th>0</th>\n",
              "      <td>1</td>\n",
              "      <td>7.0</td>\n",
              "      <td>1.00</td>\n",
              "      <td>30.8</td>\n",
              "      <td>0.4</td>\n",
              "      <td>0</td>\n",
              "    </tr>\n",
              "    <tr>\n",
              "      <th>1</th>\n",
              "      <td>2</td>\n",
              "      <td>17.2</td>\n",
              "      <td>1.60</td>\n",
              "      <td>50.5</td>\n",
              "      <td>1.5</td>\n",
              "      <td>0</td>\n",
              "    </tr>\n",
              "    <tr>\n",
              "      <th>2</th>\n",
              "      <td>3</td>\n",
              "      <td>25.0</td>\n",
              "      <td>1.70</td>\n",
              "      <td>60.7</td>\n",
              "      <td>18.5</td>\n",
              "      <td>0</td>\n",
              "    </tr>\n",
              "    <tr>\n",
              "      <th>3</th>\n",
              "      <td>4</td>\n",
              "      <td>32.5</td>\n",
              "      <td>1.45</td>\n",
              "      <td>4.0</td>\n",
              "      <td>100.3</td>\n",
              "      <td>0</td>\n",
              "    </tr>\n",
              "    <tr>\n",
              "      <th>4</th>\n",
              "      <td>5</td>\n",
              "      <td>45.8</td>\n",
              "      <td>2.00</td>\n",
              "      <td>42.5</td>\n",
              "      <td>30.5</td>\n",
              "      <td>0</td>\n",
              "    </tr>\n",
              "  </tbody>\n",
              "</table>\n",
              "</div>"
            ],
            "text/plain": [
              "   Id   Age  Height  Weight  Riches  Gender\n",
              "0   1   7.0    1.00    30.8     0.4       0\n",
              "1   2  17.2    1.60    50.5     1.5       0\n",
              "2   3  25.0    1.70    60.7    18.5       0\n",
              "3   4  32.5    1.45     4.0   100.3       0\n",
              "4   5  45.8    2.00    42.5    30.5       0"
            ]
          },
          "metadata": {
            "tags": []
          },
          "execution_count": 5
        }
      ]
    },
    {
      "cell_type": "code",
      "metadata": {
        "colab": {
          "base_uri": "https://localhost:8080/"
        },
        "id": "E9Kf_EdPR0gU",
        "outputId": "2b0d7637-f37d-475e-ac89-0c08c67f0035"
      },
      "source": [
        "print(Dataset)"
      ],
      "execution_count": 6,
      "outputs": [
        {
          "output_type": "stream",
          "text": [
            "    Id   Age  Height  Weight  Riches  Gender\n",
            "0    1   7.0    1.00    30.8     0.4       0\n",
            "1    2  17.2    1.60    50.5     1.5       0\n",
            "2    3  25.0    1.70    60.7    18.5       0\n",
            "3    4  32.5    1.45     4.0   100.3       0\n",
            "4    5  45.8    2.00    42.5    30.5       0\n",
            "5    6  60.2    1.85    65.0   100.3       0\n",
            "6    7  12.1    1.80    72.0    16.2       0\n",
            "7    8  37.5    1.70    45.8     1.0       0\n",
            "8    9  22.2    1.55    55.8    13.8       0\n",
            "9   10  25.2    1.60    39.9    14.2       0\n",
            "10  11  32.8    2.00    35.3     1.0       1\n",
            "11  12  45.5    3.00    42.5    20.5       1\n",
            "12  13   6.0    1.68     4.0     1.0       1\n",
            "13  14  32.4    1.72    48.7    42.5       1\n",
            "14  15  20.5    1.68    36.8    13.5       1\n",
            "15  16  32.0    1.50    42.4    40.2       1\n",
            "16  17  50.2    3.00    45.5    15.5       1\n",
            "17  18  28.0    1.78    40.1     1.0       1\n",
            "18  19  35.1    1.68    45.5    15.5       1\n",
            "19  20  28.0    1.45    39.3    10.1       1\n",
            "20  21   7.0    1.00    30.8     0.4       0\n",
            "21  22  17.2    1.60    50.5     1.5       0\n",
            "22  23  25.0    1.70    60.7    18.5       0\n",
            "23  24  32.5    1.45     4.0   100.3       0\n",
            "24  25  45.8    2.00    42.5    30.5       0\n",
            "25  26  60.2    1.85    65.0   100.3       0\n",
            "26  27  12.1    1.80    72.0    16.2       0\n",
            "27  28  37.5    1.70    45.8     1.0       0\n",
            "28  29  22.2    1.55    55.8    13.8       0\n",
            "29  30  25.2    1.60    39.9    14.2       0\n",
            "30  31  32.8    2.00    35.3     1.0       1\n",
            "31  32  45.5    3.00    42.5    20.5       1\n",
            "32  33   6.0    1.68     4.0     1.0       1\n",
            "33  34  32.4    1.72    48.7    42.5       1\n",
            "34  35  20.5    1.68    36.8    13.5       1\n",
            "35  36  32.0    1.50    42.4    40.2       1\n",
            "36  37  50.2    3.00    45.5    15.5       1\n",
            "37  38  28.0    1.78    40.1     1.0       1\n",
            "38  39  35.1    1.68    45.5    15.5       1\n",
            "39  40  28.0    1.45    39.3    10.1       1\n"
          ],
          "name": "stdout"
        }
      ]
    },
    {
      "cell_type": "code",
      "metadata": {
        "id": "PdZq-kjmSBgX"
      },
      "source": [
        "Dataset = Dataset.drop(labels=\"Id\",axis=1)"
      ],
      "execution_count": 7,
      "outputs": []
    },
    {
      "cell_type": "code",
      "metadata": {
        "colab": {
          "base_uri": "https://localhost:8080/"
        },
        "id": "Up_iBtO3SFFb",
        "outputId": "e17b6d21-b5a4-4b07-8f27-0d61499a2091"
      },
      "source": [
        "print(Dataset)"
      ],
      "execution_count": 8,
      "outputs": [
        {
          "output_type": "stream",
          "text": [
            "     Age  Height  Weight  Riches  Gender\n",
            "0    7.0    1.00    30.8     0.4       0\n",
            "1   17.2    1.60    50.5     1.5       0\n",
            "2   25.0    1.70    60.7    18.5       0\n",
            "3   32.5    1.45     4.0   100.3       0\n",
            "4   45.8    2.00    42.5    30.5       0\n",
            "5   60.2    1.85    65.0   100.3       0\n",
            "6   12.1    1.80    72.0    16.2       0\n",
            "7   37.5    1.70    45.8     1.0       0\n",
            "8   22.2    1.55    55.8    13.8       0\n",
            "9   25.2    1.60    39.9    14.2       0\n",
            "10  32.8    2.00    35.3     1.0       1\n",
            "11  45.5    3.00    42.5    20.5       1\n",
            "12   6.0    1.68     4.0     1.0       1\n",
            "13  32.4    1.72    48.7    42.5       1\n",
            "14  20.5    1.68    36.8    13.5       1\n",
            "15  32.0    1.50    42.4    40.2       1\n",
            "16  50.2    3.00    45.5    15.5       1\n",
            "17  28.0    1.78    40.1     1.0       1\n",
            "18  35.1    1.68    45.5    15.5       1\n",
            "19  28.0    1.45    39.3    10.1       1\n",
            "20   7.0    1.00    30.8     0.4       0\n",
            "21  17.2    1.60    50.5     1.5       0\n",
            "22  25.0    1.70    60.7    18.5       0\n",
            "23  32.5    1.45     4.0   100.3       0\n",
            "24  45.8    2.00    42.5    30.5       0\n",
            "25  60.2    1.85    65.0   100.3       0\n",
            "26  12.1    1.80    72.0    16.2       0\n",
            "27  37.5    1.70    45.8     1.0       0\n",
            "28  22.2    1.55    55.8    13.8       0\n",
            "29  25.2    1.60    39.9    14.2       0\n",
            "30  32.8    2.00    35.3     1.0       1\n",
            "31  45.5    3.00    42.5    20.5       1\n",
            "32   6.0    1.68     4.0     1.0       1\n",
            "33  32.4    1.72    48.7    42.5       1\n",
            "34  20.5    1.68    36.8    13.5       1\n",
            "35  32.0    1.50    42.4    40.2       1\n",
            "36  50.2    3.00    45.5    15.5       1\n",
            "37  28.0    1.78    40.1     1.0       1\n",
            "38  35.1    1.68    45.5    15.5       1\n",
            "39  28.0    1.45    39.3    10.1       1\n"
          ],
          "name": "stdout"
        }
      ]
    },
    {
      "cell_type": "code",
      "metadata": {
        "id": "Qs7i4D4hSNs3"
      },
      "source": [
        "Dataset = Dataset.to_numpy()"
      ],
      "execution_count": 9,
      "outputs": []
    },
    {
      "cell_type": "code",
      "metadata": {
        "colab": {
          "base_uri": "https://localhost:8080/"
        },
        "id": "fatRSt7ITjE_",
        "outputId": "84f264d0-7349-470d-81de-bf09ce6d384f"
      },
      "source": [
        "print(Dataset)"
      ],
      "execution_count": 10,
      "outputs": [
        {
          "output_type": "stream",
          "text": [
            "[[  7.     1.    30.8    0.4    0.  ]\n",
            " [ 17.2    1.6   50.5    1.5    0.  ]\n",
            " [ 25.     1.7   60.7   18.5    0.  ]\n",
            " [ 32.5    1.45   4.   100.3    0.  ]\n",
            " [ 45.8    2.    42.5   30.5    0.  ]\n",
            " [ 60.2    1.85  65.   100.3    0.  ]\n",
            " [ 12.1    1.8   72.    16.2    0.  ]\n",
            " [ 37.5    1.7   45.8    1.     0.  ]\n",
            " [ 22.2    1.55  55.8   13.8    0.  ]\n",
            " [ 25.2    1.6   39.9   14.2    0.  ]\n",
            " [ 32.8    2.    35.3    1.     1.  ]\n",
            " [ 45.5    3.    42.5   20.5    1.  ]\n",
            " [  6.     1.68   4.     1.     1.  ]\n",
            " [ 32.4    1.72  48.7   42.5    1.  ]\n",
            " [ 20.5    1.68  36.8   13.5    1.  ]\n",
            " [ 32.     1.5   42.4   40.2    1.  ]\n",
            " [ 50.2    3.    45.5   15.5    1.  ]\n",
            " [ 28.     1.78  40.1    1.     1.  ]\n",
            " [ 35.1    1.68  45.5   15.5    1.  ]\n",
            " [ 28.     1.45  39.3   10.1    1.  ]\n",
            " [  7.     1.    30.8    0.4    0.  ]\n",
            " [ 17.2    1.6   50.5    1.5    0.  ]\n",
            " [ 25.     1.7   60.7   18.5    0.  ]\n",
            " [ 32.5    1.45   4.   100.3    0.  ]\n",
            " [ 45.8    2.    42.5   30.5    0.  ]\n",
            " [ 60.2    1.85  65.   100.3    0.  ]\n",
            " [ 12.1    1.8   72.    16.2    0.  ]\n",
            " [ 37.5    1.7   45.8    1.     0.  ]\n",
            " [ 22.2    1.55  55.8   13.8    0.  ]\n",
            " [ 25.2    1.6   39.9   14.2    0.  ]\n",
            " [ 32.8    2.    35.3    1.     1.  ]\n",
            " [ 45.5    3.    42.5   20.5    1.  ]\n",
            " [  6.     1.68   4.     1.     1.  ]\n",
            " [ 32.4    1.72  48.7   42.5    1.  ]\n",
            " [ 20.5    1.68  36.8   13.5    1.  ]\n",
            " [ 32.     1.5   42.4   40.2    1.  ]\n",
            " [ 50.2    3.    45.5   15.5    1.  ]\n",
            " [ 28.     1.78  40.1    1.     1.  ]\n",
            " [ 35.1    1.68  45.5   15.5    1.  ]\n",
            " [ 28.     1.45  39.3   10.1    1.  ]]\n"
          ],
          "name": "stdout"
        }
      ]
    },
    {
      "cell_type": "code",
      "metadata": {
        "id": "ymfiOWRtTrQk"
      },
      "source": [
        "dataTraining = np.concatenate((Dataset[0:10, :], Dataset[10:20, :]),axis=0)\n",
        "dataTesting = np.concatenate((Dataset[20:30, :], Dataset[30:40, :]),axis=0)"
      ],
      "execution_count": 12,
      "outputs": []
    },
    {
      "cell_type": "code",
      "metadata": {
        "colab": {
          "base_uri": "https://localhost:8080/"
        },
        "id": "xY1GW_UUT0EM",
        "outputId": "0ed7a448-fa4f-4fc2-ad57-ad37cbe295f1"
      },
      "source": [
        "print(dataTesting)\n",
        "len(dataTesting)"
      ],
      "execution_count": 19,
      "outputs": [
        {
          "output_type": "stream",
          "text": [
            "[[  7.     1.    30.8    0.4    0.  ]\n",
            " [ 17.2    1.6   50.5    1.5    0.  ]\n",
            " [ 25.     1.7   60.7   18.5    0.  ]\n",
            " [ 32.5    1.45   4.   100.3    0.  ]\n",
            " [ 45.8    2.    42.5   30.5    0.  ]\n",
            " [ 60.2    1.85  65.   100.3    0.  ]\n",
            " [ 12.1    1.8   72.    16.2    0.  ]\n",
            " [ 37.5    1.7   45.8    1.     0.  ]\n",
            " [ 22.2    1.55  55.8   13.8    0.  ]\n",
            " [ 25.2    1.6   39.9   14.2    0.  ]\n",
            " [ 32.8    2.    35.3    1.     1.  ]\n",
            " [ 45.5    3.    42.5   20.5    1.  ]\n",
            " [  6.     1.68   4.     1.     1.  ]\n",
            " [ 32.4    1.72  48.7   42.5    1.  ]\n",
            " [ 20.5    1.68  36.8   13.5    1.  ]\n",
            " [ 32.     1.5   42.4   40.2    1.  ]\n",
            " [ 50.2    3.    45.5   15.5    1.  ]\n",
            " [ 28.     1.78  40.1    1.     1.  ]\n",
            " [ 35.1    1.68  45.5   15.5    1.  ]\n",
            " [ 28.     1.45  39.3   10.1    1.  ]]\n"
          ],
          "name": "stdout"
        },
        {
          "output_type": "execute_result",
          "data": {
            "text/plain": [
              "20"
            ]
          },
          "metadata": {
            "tags": []
          },
          "execution_count": 19
        }
      ]
    },
    {
      "cell_type": "code",
      "metadata": {
        "colab": {
          "base_uri": "https://localhost:8080/"
        },
        "id": "_3nypWbN6CZN",
        "outputId": "6a106416-ed43-403f-eb84-8ffa572fdc06"
      },
      "source": [
        "print(dataTraining)\n",
        "len(dataTraining)"
      ],
      "execution_count": 20,
      "outputs": [
        {
          "output_type": "stream",
          "text": [
            "[[  7.     1.    30.8    0.4    0.  ]\n",
            " [ 17.2    1.6   50.5    1.5    0.  ]\n",
            " [ 25.     1.7   60.7   18.5    0.  ]\n",
            " [ 32.5    1.45   4.   100.3    0.  ]\n",
            " [ 45.8    2.    42.5   30.5    0.  ]\n",
            " [ 60.2    1.85  65.   100.3    0.  ]\n",
            " [ 12.1    1.8   72.    16.2    0.  ]\n",
            " [ 37.5    1.7   45.8    1.     0.  ]\n",
            " [ 22.2    1.55  55.8   13.8    0.  ]\n",
            " [ 25.2    1.6   39.9   14.2    0.  ]\n",
            " [ 32.8    2.    35.3    1.     1.  ]\n",
            " [ 45.5    3.    42.5   20.5    1.  ]\n",
            " [  6.     1.68   4.     1.     1.  ]\n",
            " [ 32.4    1.72  48.7   42.5    1.  ]\n",
            " [ 20.5    1.68  36.8   13.5    1.  ]\n",
            " [ 32.     1.5   42.4   40.2    1.  ]\n",
            " [ 50.2    3.    45.5   15.5    1.  ]\n",
            " [ 28.     1.78  40.1    1.     1.  ]\n",
            " [ 35.1    1.68  45.5   15.5    1.  ]\n",
            " [ 28.     1.45  39.3   10.1    1.  ]]\n"
          ],
          "name": "stdout"
        },
        {
          "output_type": "execute_result",
          "data": {
            "text/plain": [
              "20"
            ]
          },
          "metadata": {
            "tags": []
          },
          "execution_count": 20
        }
      ]
    },
    {
      "cell_type": "code",
      "metadata": {
        "id": "Kod2lJIBaYJP"
      },
      "source": [
        "inputTraining = dataTraining[:,0:4]\n",
        "inputTesting = dataTesting[:,0:4]\n",
        "labelTraining = dataTraining[:,4]\n",
        "labelTesting = dataTesting[:,4]"
      ],
      "execution_count": 21,
      "outputs": []
    },
    {
      "cell_type": "code",
      "metadata": {
        "id": "WGTRgi3-Uj5z"
      },
      "source": [
        "model = tree.DecisionTreeClassifier()"
      ],
      "execution_count": 22,
      "outputs": []
    },
    {
      "cell_type": "code",
      "metadata": {
        "id": "V_zNFnCMUp3a"
      },
      "source": [
        "model = model.fit(inputTraining,labelTraining)"
      ],
      "execution_count": 23,
      "outputs": []
    },
    {
      "cell_type": "code",
      "metadata": {
        "id": "SSTw6HjMU9j0",
        "colab": {
          "base_uri": "https://localhost:8080/"
        },
        "outputId": "7d19d1ee-1e94-44b5-d3cc-e047992b5617"
      },
      "source": [
        "hasilPrediksi = model.predict(inputTesting)\n",
        "print(\"Label Sebenarnya : \",labelTesting)\n",
        "print(\"Hasil Prediksi : \",hasilPrediksi)"
      ],
      "execution_count": 24,
      "outputs": [
        {
          "output_type": "stream",
          "text": [
            "Label Sebenarnya :  [0. 0. 0. 0. 0. 0. 0. 0. 0. 0. 1. 1. 1. 1. 1. 1. 1. 1. 1. 1.]\n",
            "Hasil Prediksi :  [0. 0. 0. 0. 0. 0. 0. 0. 0. 0. 1. 1. 1. 1. 1. 1. 1. 1. 1. 1.]\n"
          ],
          "name": "stdout"
        }
      ]
    },
    {
      "cell_type": "code",
      "metadata": {
        "id": "HkzB85CTVDdl",
        "colab": {
          "base_uri": "https://localhost:8080/"
        },
        "outputId": "811710db-6929-4ed4-9f78-40c730a788dc"
      },
      "source": [
        "prediksiBenar = (hasilPrediksi == labelTesting).sum()\n",
        "prediksiSalah = (hasilPrediksi != labelTesting).sum()\n",
        "print(\"Prediksi Benar : \",prediksiBenar,\"data\")\n",
        "print(\"Prediksi Benar : \",prediksiSalah,\"data\")\n",
        "print(\"Akurasi : \", prediksiBenar/(prediksiBenar+prediksiSalah)*100,\"%\")"
      ],
      "execution_count": 25,
      "outputs": [
        {
          "output_type": "stream",
          "text": [
            "Prediksi Benar :  20 data\n",
            "Prediksi Benar :  0 data\n",
            "Akurasi :  100.0 %\n"
          ],
          "name": "stdout"
        }
      ]
    }
  ]
}